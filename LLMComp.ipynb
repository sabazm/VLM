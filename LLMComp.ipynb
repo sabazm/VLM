{
 "cells": [
  {
   "cell_type": "code",
   "execution_count": 1,
   "metadata": {},
   "outputs": [],
   "source": [
    "import torch\n",
    "from torch.utils.data import DataLoader\n",
    "from transformers import CLIPProcessor, CLIPModel, TrainingArguments, Trainer\n",
    "from datasets import load_dataset\n",
    "from PIL import Image\n",
    "import requests\n",
    "from io import BytesIO\n",
    "from sklearn.metrics import accuracy_score, precision_score, recall_score, f1_score\n"
   ]
  },
  {
   "cell_type": "code",
   "execution_count": null,
   "metadata": {},
   "outputs": [],
   "source": []
  },
  {
   "cell_type": "code",
   "execution_count": 1,
   "metadata": {},
   "outputs": [
    {
     "name": "stderr",
     "output_type": "stream",
     "text": [
      "/Users/sabazamankhani/miniforge3/envs/transformers_env/lib/python3.11/site-packages/huggingface_hub/file_download.py:1150: FutureWarning: `resume_download` is deprecated and will be removed in version 1.0.0. Downloads always resume when possible. If you want to force a new download, use `force_download=True`.\n",
      "  warnings.warn(\n"
     ]
    }
   ],
   "source": [
    "import torch\n",
    "from transformers import CLIPProcessor, CLIPModel\n",
    "from peft import LoraConfig, get_peft_model\n",
    "from datasets import load_dataset\n",
    "from torch.optim import AdamW\n",
    "from torch.utils.data import DataLoader\n",
    "\n",
    "\n",
    "model_name_ = \"openai/clip-vit-base-patch32\"\n",
    "model = CLIPModel.from_pretrained(model_name_)\n",
    "processor = CLIPProcessor.from_pretrained(model_name_)\n",
    "\n",
    "\n",
    "lora_config = LoraConfig(\n",
    "    r=8,  # Rank of the adaptation matrix\n",
    "    lora_alpha=32,  # Scaling factor\n",
    "    lora_dropout=0.1,  # Dropout for LoRA layers\n",
    "    target_modules=[\"q_proj\", \"k_proj\", \"v_proj\", \"out_proj\"],  # Targeting Linear layers within CLIPAttention\n",
    "    task_type=\"vision_language_modeling\"  # Task type specific to vision-language models\n",
    ")\n",
    "\n",
    "#LoRA\n",
    "model = get_peft_model(model, lora_config)\n",
    "\n",
    "dataset = load_dataset(\"cifar10\")\n",
    "\n",
    "#preprocess function --> converts labels to strings for concatenation\n",
    "def preprocess_function(examples):\n",
    "    inputs = processor(\n",
    "        text=[\"a photo of a \" + str(label) for label in examples[\"label\"]],\n",
    "        images=[img for img in examples[\"img\"]],\n",
    "        return_tensors=\"pt\",\n",
    "        padding=True,\n",
    "    )\n",
    "    return inputs\n",
    "\n",
    "dataset = dataset.map(preprocess_function, batched=True)\n",
    "dataset.set_format(type=\"torch\", columns=[\"input_ids\", \"attention_mask\", \"pixel_values\", \"label\"])\n",
    "train_dataloader = DataLoader(dataset[\"train\"], batch_size=32, shuffle=True)\n",
    "eval_dataloader = DataLoader(dataset[\"test\"], batch_size=64)\n",
    "\n",
    "\n",
    "optimizer = AdamW(model.parameters(), lr=5e-5)\n",
    "\n",
    "\n",
    "model.train()\n",
    "for epoch in range(3):  #epochs\n",
    "    for batch in train_dataloader:\n",
    "        optimizer.zero_grad()\n",
    "        \n",
    "        # Forward pass\n",
    "        outputs = model(\n",
    "            input_ids=batch[\"input_ids\"],\n",
    "            attention_mask=batch[\"attention_mask\"],\n",
    "            pixel_values=batch[\"pixel_values\"]\n",
    "        )\n",
    "        \n",
    "        #contrastive loss\n",
    "        logits_per_image = outputs.logits_per_image\n",
    "        logits_per_text = outputs.logits_per_text\n",
    "        ground_truth = torch.arange(len(logits_per_image)).long().to(logits_per_image.device)\n",
    "        loss = (torch.nn.functional.cross_entropy(logits_per_image, ground_truth) + \n",
    "                torch.nn.functional.cross_entropy(logits_per_text, ground_truth)) / 2\n",
    "        \n",
    "        # Backward pass and optimization\n",
    "        loss.backward()\n",
    "        optimizer.step()\n",
    "    \n",
    "    print(f\"Epoch {epoch + 1} completed. Loss: {loss.item()}\")\n",
    "\n",
    "\n",
    "model.eval()\n",
    "all_preds = []\n",
    "all_labels = []\n",
    "for batch in eval_dataloader:\n",
    "    with torch.no_grad():\n",
    "        outputs = model(\n",
    "            input_ids=batch[\"input_ids\"],\n",
    "            attention_mask=batch[\"attention_mask\"],\n",
    "            pixel_values=batch[\"pixel_values\"]\n",
    "        )\n",
    "        \n",
    "        \n",
    "        preds = torch.argmax(outputs.logits_per_image, dim=1)\n",
    "        all_preds.extend(preds.cpu().numpy())\n",
    "        all_labels.extend(batch[\"label\"].cpu().numpy())\n",
    "\n",
    "# ------------------accuracy-------------------------------------\n",
    "accuracy = sum([pred == label for pred, label in zip(all_preds, all_labels)]) / len(all_preds)\n",
    "print(f\"Accuracy: {accuracy}\")\n"
   ]
  },
  {
   "cell_type": "code",
   "execution_count": null,
   "metadata": {},
   "outputs": [],
   "source": []
  },
  {
   "cell_type": "code",
   "execution_count": null,
   "metadata": {},
   "outputs": [],
   "source": []
  },
  {
   "cell_type": "code",
   "execution_count": null,
   "metadata": {},
   "outputs": [],
   "source": [
    "#ReFT\n",
    "import torch\n",
    "from transformers import CLIPProcessor, CLIPModel, Trainer, TrainingArguments\n",
    "from datasets import load_dataset\n",
    "from pyreft import ReFTTrainer, ReFTConfig\n"
   ]
  }
 ],
 "metadata": {
  "kernelspec": {
   "display_name": "transformers_env",
   "language": "python",
   "name": "python3"
  },
  "language_info": {
   "codemirror_mode": {
    "name": "ipython",
    "version": 3
   },
   "file_extension": ".py",
   "mimetype": "text/x-python",
   "name": "python",
   "nbconvert_exporter": "python",
   "pygments_lexer": "ipython3",
   "version": "3.11.9"
  }
 },
 "nbformat": 4,
 "nbformat_minor": 2
}
